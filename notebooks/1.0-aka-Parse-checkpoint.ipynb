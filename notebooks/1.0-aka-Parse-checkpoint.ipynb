{
 "cells": [
  {
   "cell_type": "code",
   "execution_count": 58,
   "id": "0597d80b",
   "metadata": {},
   "outputs": [],
   "source": [
    "from selenium.webdriver.chrome.options import Options\n",
    "from selenium.webdriver.chrome.service import Service\n",
    "from selenium.webdriver.common.by import By\n",
    "from webdriver_manager.chrome import ChromeDriverManager\n",
    "from selenium.webdriver.common.keys import Keys\n",
    "from selenium import webdriver\n",
    "from tqdm import tqdm\n",
    "import time\n",
    "import pandas as pd\n",
    "import datetime\n",
    "from bs4 import BeautifulSoup\n",
    "import os"
   ]
  },
  {
   "cell_type": "code",
   "execution_count": 59,
   "id": "f2e0b4c8",
   "metadata": {},
   "outputs": [],
   "source": [
    "date_target = '01.12.2017'\n",
    "cwd = os.getcwd()"
   ]
  },
  {
   "cell_type": "code",
   "execution_count": 60,
   "id": "f0eb8159",
   "metadata": {},
   "outputs": [
    {
     "name": "stderr",
     "output_type": "stream",
     "text": [
      "<ipython-input-60-fcef8dd5f9b1>:4: DeprecationWarning: use options instead of chrome_options\n",
      "  driver = webdriver.Chrome(service=Service(ChromeDriverManager().install()), chrome_options=chrome_options)\n"
     ]
    },
    {
     "name": "stdout",
     "output_type": "stream",
     "text": [
      "Попытка установки даты 1\n",
      "Утановленая дата = 0007-11-29\n",
      "Попытка установки даты 2\n",
      "Утановленая дата = 2017-11-28\n",
      "Успешно\n",
      "Дата установлена верно\n"
     ]
    }
   ],
   "source": [
    "url = 'https://ru.investing.com/crypto/bitcoin/btc-usd-historical-data?cid=1035793'\n",
    "\n",
    "chrome_options = Options()\n",
    "driver = webdriver.Chrome(service=Service(ChromeDriverManager().install()), chrome_options=chrome_options)\n",
    "driver.get(url)\n",
    "time.sleep(4)\n",
    "\n",
    "# Увеличиваю окно браузера\n",
    "driver.set_window_size(1800, 1000)\n",
    "\n",
    "# Прокрутить\n",
    "driver.execute_script(\"window.scrollTo(0, 650);\") ### https://qastack.ru/programming/20986631/how-can-i-scroll-a-web-page-using-selenium-webdriver-in-python\n",
    "\n",
    "# Открываю поле воода даты\n",
    "butom_date = 'DatePickerWrapper_input__MDvWH'\n",
    "driver.find_element(By.CLASS_NAME, butom_date).click()\n",
    "time.sleep(2)\n",
    "\n",
    "# Ввод даты старта.\n",
    "for try_n in range(1, 5):\n",
    "    print(f'Попытка установки даты {try_n}')\n",
    "    butom_close = 'NativeDateInput_root__wbgyP'  #'#__next > div > div > div > div.grid.gap-4.tablet\\:gap-6.grid-cols-4.tablet\\:grid-cols-8.desktop\\:grid-cols-12.grid-container--fixed-desktop.general-layout_main__lRLYJ > main > div > div:nth-child(5) > div > div:nth-child(1) > div > div.flex.justify-between.items-end.mb-4 > div.flex.flex-row-reverse.desktop\\:flex-row.gap-6 > div.historical-data_history-date-picker-wrapper__dDOuq > div.HistoryDatePicker_HistoryDatePicker__sjrlU > div:nth-child(1) > div > div:nth-child(1) > input[type=date]' #'//*[@id=\"__next\"]/div/div/div/div[2]/main/div/div[5]/div/div[1]/div/div[2]/div[2]/div[2]/div[2]/div[1]/div/div[1]/input'\n",
    "\n",
    "\n",
    "    field = driver.find_element(By.CLASS_NAME, butom_close) #CSS_SELECTOR\n",
    "    field = field.find_element(By.TAG_NAME, 'input')\n",
    "    # field.clear()\n",
    "    field.send_keys(date_target) # date_target + Keys.ENTER\n",
    "    time.sleep(2)\n",
    "    # Дата окончани не нужна. \n",
    "    if field.get_attribute('value')[:4] == date_target[-4:]:\n",
    "        print('Утановленая дата =',  field.get_attribute('value'))\n",
    "        print('Успешно')\n",
    "        break\n",
    "    else:\n",
    "        print('Утановленая дата =',  field.get_attribute('value'))\n",
    "\n",
    "# Применить фильтр.\n",
    "butom_ = 'HistoryDatePicker_arrow-icon__NwxN4'  #'//*[@id=\"__next\"]/div/div/div/div[2]/main/div/div[5]/div/div[1]/div/div[2]/div[2]/div[2]/div[2]/div[2]/button'\n",
    "driver.find_element(By.CLASS_NAME, butom_).click()\n",
    "time.sleep(2)\n",
    "\n",
    "# Проверить установился ли фильтр даты.\n",
    "butom_ ='historical-data_history-date-picker-wrapper__dDOuq'\n",
    "date_text = driver.find_element(By.CLASS_NAME, butom_).text\n",
    "\n",
    "if date_text[:len(date_target)][-4:] == date_target[-4:]:\n",
    "    print('Дата установлена верно')\n",
    "else:\n",
    "    print('Утановленная дата', date_text[:len(date_target)])\n",
    "    1/0\n",
    "\n",
    "\n",
    "# Прокрутить\n",
    "driver.execute_script(\"window.scrollTo(0, 900);\")\n",
    "\n",
    "col_names = ['Дата', 'Цена', 'Откр.', 'Макс.', 'Мин.', 'Объём', 'Изм. %']\n",
    "\n",
    "# Пробую прочитать файл. \n",
    "try:\n",
    "    df_parse = pd.read_excel('parse_df_investing.xlsx')\n",
    "    pd.to_datetime(df_parse['Дата'], format='%d.%m.%Y')\n",
    "    \n",
    "    diff_day = 3\n",
    "    date_old = pd.to_datetime(df_parse['Дата'], format='%d.%m.%Y').max()\n",
    "    date_now_shift = datetime.datetime.today() + datetime.timedelta(days=diff_day)\n",
    "    if date_old > date_now_shift:\n",
    "        print(f'Старый файл отстаёт от сегодя меньше чем на {diff_day} дней. Новые данные не парсятся.')\n",
    "    else:\n",
    "        raise ValueError(f'Дата слишком слишком старая (больше {diff_day}). Придётся парсить данные')\n",
    "        \n",
    "    \n",
    "except:\n",
    "    soup = BeautifulSoup(driver.page_source, 'lxml')\n",
    "    # https://medium.com/analytics-vidhya/scraping-tables-from-a-javascript-webpage-using-selenium-beautifulsoup-and-pandas-cbd305ca75fe\n",
    "    # beautifulsoup4 используемая библиотека\n",
    "\n",
    "    tables = soup.find_all('table')\n",
    "    dfs = pd.read_html(str(tables))\n",
    "    for df_i in dfs:\n",
    "        head_name = list(df_i)\n",
    "        if head_name == ['Дата', 'Цена', 'Откр.', 'Макс.', 'Мин.', 'Объём', 'Изм. %']:\n",
    "            df_parse = df_i.copy()\n",
    "            break"
   ]
  },
  {
   "cell_type": "code",
   "execution_count": 26,
   "id": "5c15a73d",
   "metadata": {},
   "outputs": [],
   "source": [
    "df_parse['Дата'] = pd.to_datetime(df_parse['Дата'], format='%d.%m.%Y')"
   ]
  },
  {
   "cell_type": "code",
   "execution_count": 27,
   "id": "4ce56cda",
   "metadata": {},
   "outputs": [],
   "source": [
    "def replace_num(str_):\n",
    "    str_ = str(str_)\n",
    "    if 'K' in str_:\n",
    "        return int(str_.replace('K', '').replace(',', '')+'000')\n",
    "    elif 'M' in str_:\n",
    "        return int(str_.replace('M', '').replace(',', '')+'000000')\n",
    "    else:\n",
    "        try:\n",
    "            return int(str_.replace(',', ''))\n",
    "        except:\n",
    "            return 0\n",
    "        \n",
    "df_parse['value_correct'] = df_parse['Объём'].apply(replace_num)"
   ]
  },
  {
   "cell_type": "code",
   "execution_count": 28,
   "id": "8e8573cc",
   "metadata": {},
   "outputs": [],
   "source": [
    "def replace_symb(str_):\n",
    "    str_ = float(str(str_).replace('.', '').replace(',', '.'))\n",
    "    return str_"
   ]
  },
  {
   "cell_type": "code",
   "execution_count": 29,
   "id": "fd56fee9",
   "metadata": {},
   "outputs": [
    {
     "name": "stdout",
     "output_type": "stream",
     "text": [
      "Цена\n",
      "Откр.\n",
      "Макс.\n",
      "Мин.\n",
      "value_correct\n"
     ]
    }
   ],
   "source": [
    "for col in ['Цена', 'Откр.', 'Макс.', 'Мин.', 'value_correct']:\n",
    "    print(col)\n",
    "    df_parse[col] = df_parse[col].apply(replace_symb)\n",
    "\n",
    "\n",
    "driver.close()"
   ]
  },
  {
   "cell_type": "code",
   "execution_count": 63,
   "id": "5bedef17",
   "metadata": {},
   "outputs": [
    {
     "ename": "PermissionError",
     "evalue": "[Errno 13] Permission denied: 'parse_df_investing.xlsx'",
     "output_type": "error",
     "traceback": [
      "\u001b[1;31m---------------------------------------------------------------------------\u001b[0m",
      "\u001b[1;31mPermissionError\u001b[0m                           Traceback (most recent call last)",
      "\u001b[1;32m<ipython-input-63-a1bb2307c2de>\u001b[0m in \u001b[0;36m<module>\u001b[1;34m\u001b[0m\n\u001b[1;32m----> 1\u001b[1;33m \u001b[0mdf_parse\u001b[0m\u001b[1;33m.\u001b[0m\u001b[0mto_excel\u001b[0m\u001b[1;33m(\u001b[0m\u001b[1;34m'parse_df_investing.xlsx'\u001b[0m\u001b[1;33m,\u001b[0m \u001b[0mindex\u001b[0m\u001b[1;33m=\u001b[0m\u001b[1;32mFalse\u001b[0m\u001b[1;33m)\u001b[0m\u001b[1;33m\u001b[0m\u001b[1;33m\u001b[0m\u001b[0m\n\u001b[0m",
      "\u001b[1;32mc:\\users\\kirill\\appdata\\local\\programs\\python\\python39\\lib\\site-packages\\pandas\\core\\generic.py\u001b[0m in \u001b[0;36mto_excel\u001b[1;34m(self, excel_writer, sheet_name, na_rep, float_format, columns, header, index, index_label, startrow, startcol, engine, merge_cells, encoding, inf_rep, verbose, freeze_panes, storage_options)\u001b[0m\n\u001b[0;32m   2282\u001b[0m             \u001b[0minf_rep\u001b[0m\u001b[1;33m=\u001b[0m\u001b[0minf_rep\u001b[0m\u001b[1;33m,\u001b[0m\u001b[1;33m\u001b[0m\u001b[1;33m\u001b[0m\u001b[0m\n\u001b[0;32m   2283\u001b[0m         )\n\u001b[1;32m-> 2284\u001b[1;33m         formatter.write(\n\u001b[0m\u001b[0;32m   2285\u001b[0m             \u001b[0mexcel_writer\u001b[0m\u001b[1;33m,\u001b[0m\u001b[1;33m\u001b[0m\u001b[1;33m\u001b[0m\u001b[0m\n\u001b[0;32m   2286\u001b[0m             \u001b[0msheet_name\u001b[0m\u001b[1;33m=\u001b[0m\u001b[0msheet_name\u001b[0m\u001b[1;33m,\u001b[0m\u001b[1;33m\u001b[0m\u001b[1;33m\u001b[0m\u001b[0m\n",
      "\u001b[1;32mc:\\users\\kirill\\appdata\\local\\programs\\python\\python39\\lib\\site-packages\\pandas\\io\\formats\\excel.py\u001b[0m in \u001b[0;36mwrite\u001b[1;34m(self, writer, sheet_name, startrow, startcol, freeze_panes, engine, storage_options)\u001b[0m\n\u001b[0;32m    832\u001b[0m             \u001b[1;31m# error: Cannot instantiate abstract class 'ExcelWriter' with abstract\u001b[0m\u001b[1;33m\u001b[0m\u001b[1;33m\u001b[0m\u001b[1;33m\u001b[0m\u001b[0m\n\u001b[0;32m    833\u001b[0m             \u001b[1;31m# attributes 'engine', 'save', 'supported_extensions' and 'write_cells'\u001b[0m\u001b[1;33m\u001b[0m\u001b[1;33m\u001b[0m\u001b[1;33m\u001b[0m\u001b[0m\n\u001b[1;32m--> 834\u001b[1;33m             writer = ExcelWriter(  # type: ignore[abstract]\n\u001b[0m\u001b[0;32m    835\u001b[0m                 \u001b[0mwriter\u001b[0m\u001b[1;33m,\u001b[0m \u001b[0mengine\u001b[0m\u001b[1;33m=\u001b[0m\u001b[0mengine\u001b[0m\u001b[1;33m,\u001b[0m \u001b[0mstorage_options\u001b[0m\u001b[1;33m=\u001b[0m\u001b[0mstorage_options\u001b[0m\u001b[1;33m\u001b[0m\u001b[1;33m\u001b[0m\u001b[0m\n\u001b[0;32m    836\u001b[0m             )\n",
      "\u001b[1;32mc:\\users\\kirill\\appdata\\local\\programs\\python\\python39\\lib\\site-packages\\pandas\\io\\excel\\_xlsxwriter.py\u001b[0m in \u001b[0;36m__init__\u001b[1;34m(self, path, engine, date_format, datetime_format, mode, storage_options, if_sheet_exists, engine_kwargs, **kwargs)\u001b[0m\n\u001b[0;32m    189\u001b[0m             \u001b[1;32mraise\u001b[0m \u001b[0mValueError\u001b[0m\u001b[1;33m(\u001b[0m\u001b[1;34m\"Append mode is not supported with xlsxwriter!\"\u001b[0m\u001b[1;33m)\u001b[0m\u001b[1;33m\u001b[0m\u001b[1;33m\u001b[0m\u001b[0m\n\u001b[0;32m    190\u001b[0m \u001b[1;33m\u001b[0m\u001b[0m\n\u001b[1;32m--> 191\u001b[1;33m         super().__init__(\n\u001b[0m\u001b[0;32m    192\u001b[0m             \u001b[0mpath\u001b[0m\u001b[1;33m,\u001b[0m\u001b[1;33m\u001b[0m\u001b[1;33m\u001b[0m\u001b[0m\n\u001b[0;32m    193\u001b[0m             \u001b[0mengine\u001b[0m\u001b[1;33m=\u001b[0m\u001b[0mengine\u001b[0m\u001b[1;33m,\u001b[0m\u001b[1;33m\u001b[0m\u001b[1;33m\u001b[0m\u001b[0m\n",
      "\u001b[1;32mc:\\users\\kirill\\appdata\\local\\programs\\python\\python39\\lib\\site-packages\\pandas\\io\\excel\\_base.py\u001b[0m in \u001b[0;36m__init__\u001b[1;34m(self, path, engine, date_format, datetime_format, mode, storage_options, if_sheet_exists, engine_kwargs, **kwargs)\u001b[0m\n\u001b[0;32m    923\u001b[0m         \u001b[0mself\u001b[0m\u001b[1;33m.\u001b[0m\u001b[0mhandles\u001b[0m \u001b[1;33m=\u001b[0m \u001b[0mIOHandles\u001b[0m\u001b[1;33m(\u001b[0m\u001b[0mcast\u001b[0m\u001b[1;33m(\u001b[0m\u001b[0mBuffer\u001b[0m\u001b[1;33m,\u001b[0m \u001b[0mpath\u001b[0m\u001b[1;33m)\u001b[0m\u001b[1;33m,\u001b[0m \u001b[0mcompression\u001b[0m\u001b[1;33m=\u001b[0m\u001b[1;33m{\u001b[0m\u001b[1;34m\"copression\"\u001b[0m\u001b[1;33m:\u001b[0m \u001b[1;32mNone\u001b[0m\u001b[1;33m}\u001b[0m\u001b[1;33m)\u001b[0m\u001b[1;33m\u001b[0m\u001b[1;33m\u001b[0m\u001b[0m\n\u001b[0;32m    924\u001b[0m         \u001b[1;32mif\u001b[0m \u001b[1;32mnot\u001b[0m \u001b[0misinstance\u001b[0m\u001b[1;33m(\u001b[0m\u001b[0mpath\u001b[0m\u001b[1;33m,\u001b[0m \u001b[0mExcelWriter\u001b[0m\u001b[1;33m)\u001b[0m\u001b[1;33m:\u001b[0m\u001b[1;33m\u001b[0m\u001b[1;33m\u001b[0m\u001b[0m\n\u001b[1;32m--> 925\u001b[1;33m             self.handles = get_handle(\n\u001b[0m\u001b[0;32m    926\u001b[0m                 \u001b[0mpath\u001b[0m\u001b[1;33m,\u001b[0m \u001b[0mmode\u001b[0m\u001b[1;33m,\u001b[0m \u001b[0mstorage_options\u001b[0m\u001b[1;33m=\u001b[0m\u001b[0mstorage_options\u001b[0m\u001b[1;33m,\u001b[0m \u001b[0mis_text\u001b[0m\u001b[1;33m=\u001b[0m\u001b[1;32mFalse\u001b[0m\u001b[1;33m\u001b[0m\u001b[1;33m\u001b[0m\u001b[0m\n\u001b[0;32m    927\u001b[0m             )\n",
      "\u001b[1;32mc:\\users\\kirill\\appdata\\local\\programs\\python\\python39\\lib\\site-packages\\pandas\\io\\common.py\u001b[0m in \u001b[0;36mget_handle\u001b[1;34m(path_or_buf, mode, encoding, compression, memory_map, is_text, errors, storage_options)\u001b[0m\n\u001b[0;32m    709\u001b[0m         \u001b[1;32melse\u001b[0m\u001b[1;33m:\u001b[0m\u001b[1;33m\u001b[0m\u001b[1;33m\u001b[0m\u001b[0m\n\u001b[0;32m    710\u001b[0m             \u001b[1;31m# Binary mode\u001b[0m\u001b[1;33m\u001b[0m\u001b[1;33m\u001b[0m\u001b[1;33m\u001b[0m\u001b[0m\n\u001b[1;32m--> 711\u001b[1;33m             \u001b[0mhandle\u001b[0m \u001b[1;33m=\u001b[0m \u001b[0mopen\u001b[0m\u001b[1;33m(\u001b[0m\u001b[0mhandle\u001b[0m\u001b[1;33m,\u001b[0m \u001b[0mioargs\u001b[0m\u001b[1;33m.\u001b[0m\u001b[0mmode\u001b[0m\u001b[1;33m)\u001b[0m\u001b[1;33m\u001b[0m\u001b[1;33m\u001b[0m\u001b[0m\n\u001b[0m\u001b[0;32m    712\u001b[0m         \u001b[0mhandles\u001b[0m\u001b[1;33m.\u001b[0m\u001b[0mappend\u001b[0m\u001b[1;33m(\u001b[0m\u001b[0mhandle\u001b[0m\u001b[1;33m)\u001b[0m\u001b[1;33m\u001b[0m\u001b[1;33m\u001b[0m\u001b[0m\n\u001b[0;32m    713\u001b[0m \u001b[1;33m\u001b[0m\u001b[0m\n",
      "\u001b[1;31mPermissionError\u001b[0m: [Errno 13] Permission denied: 'parse_df_investing.xlsx'"
     ]
    }
   ],
   "source": [
    "df_parse.to_excel('parse_df_investing.xlsx', index=False)"
   ]
  },
  {
   "cell_type": "markdown",
   "id": "c8720f81",
   "metadata": {},
   "source": [
    "# Parce google trands"
   ]
  },
  {
   "cell_type": "code",
   "execution_count": 31,
   "id": "517057f9",
   "metadata": {},
   "outputs": [
    {
     "name": "stderr",
     "output_type": "stream",
     "text": [
      "<ipython-input-31-b107116fa416>:4: DeprecationWarning: use options instead of chrome_options\n",
      "  driver = webdriver.Chrome(service=Service(ChromeDriverManager().install()), chrome_options=chrome_options)\n"
     ]
    }
   ],
   "source": [
    "url = '''https://trends.google.ru/trends/?geo=KZ'''\n",
    "\n",
    "chrome_options = Options()\n",
    "driver = webdriver.Chrome(service=Service(ChromeDriverManager().install()), chrome_options=chrome_options)\n",
    "driver.get(url)\n",
    "\n",
    "# Увеличиваю окно браузера\n",
    "driver.set_window_size(1800, 1000)"
   ]
  },
  {
   "cell_type": "code",
   "execution_count": 32,
   "id": "9df125f4",
   "metadata": {},
   "outputs": [],
   "source": [
    "# # Ввод поискового запроса\n",
    "butom_close = '//*[@id=\"input-254\"]'\n",
    "find_data = 'buy bitcoin' \n",
    "\n",
    "field = driver.find_element(By.XPATH, butom_close)\n",
    "field.clear()\n",
    "field.send_keys(find_data + Keys.ENTER) # date_target + Keys.ENTER\n",
    "time.sleep(2)\n",
    "# Дата окончани не нужна. "
   ]
  },
  {
   "cell_type": "code",
   "execution_count": 33,
   "id": "56f16281",
   "metadata": {},
   "outputs": [],
   "source": [
    "# Открываю список регионов\n",
    "butom_ = '//*[@id=\"compare-pickers-wrapper\"]/div/hierarchy-picker[1]/ng-include/div[1]'\n",
    "find_data = 'buy bitcoin' \n",
    "set_local = 'По всему миру'\n",
    "set_local = 'Казахстан'\n",
    "\n",
    "\n",
    "field = driver.find_element(By.XPATH, butom_).click()\n",
    "time.sleep(1)\n"
   ]
  },
  {
   "cell_type": "code",
   "execution_count": 34,
   "id": "349d9a15",
   "metadata": {},
   "outputs": [],
   "source": [
    "# Ввожу что мне нужны данные по всему миру\n",
    "butom_ = '//*[@id=\"input-8\"]'\n",
    "set_local = 'По всему миру'\n",
    "\n",
    "\n",
    "field = driver.find_element(By.XPATH, butom_)\n",
    "field.clear() #clear\n",
    "field.send_keys(set_local + Keys.ENTER)\n",
    "time.sleep(3)\n"
   ]
  },
  {
   "cell_type": "code",
   "execution_count": 35,
   "id": "3949a373",
   "metadata": {},
   "outputs": [],
   "source": [
    "# Выбираю из выподающего списка\n",
    "butom_ = '//*[@id=\"ul-8\"]/li/md-autocomplete-parent-scope/div'\n",
    "\n",
    "find_data = 'buy bitcoin' \n",
    "set_local = 'По всему миру'\n",
    "\n",
    "\n",
    "field = driver.find_element(By.XPATH, butom_).click()\n",
    "time.sleep(3)\n"
   ]
  },
  {
   "cell_type": "code",
   "execution_count": 36,
   "id": "9f1f28ea",
   "metadata": {},
   "outputs": [],
   "source": [
    "# Открываю список периодов\n",
    "butom_ = 'compare-picker ng-pristine ng-untouched ng-valid ng-not-empty'.replace(' ', '.')\n",
    "\n",
    "field = driver.find_element(By.CLASS_NAME, butom_).click()\n",
    "time.sleep(3)\n",
    "\n",
    "# Поиск по нескольким классам.\n",
    "# https://stackoverflow.com/questions/60534244/how-to-locate-an-element-with-multiple-classnames-using-selenium-and-python"
   ]
  },
  {
   "cell_type": "code",
   "execution_count": 37,
   "id": "53b4b038",
   "metadata": {},
   "outputs": [],
   "source": [
    "# Нажимаю произвольный период.\n",
    "butom_ = 'custom-date-picker-select-option md-ink-ripple'.replace(' ', '.')\n",
    "\n",
    "driver.find_elements(By.CLASS_NAME, butom_)[-1].click()\n",
    "time.sleep(2)"
   ]
  },
  {
   "cell_type": "code",
   "execution_count": 38,
   "id": "60164606",
   "metadata": {},
   "outputs": [],
   "source": [
    "# Выбираю дату начала.\n",
    "butom_ = 'md-datepicker-input'\n",
    "\n",
    "\n",
    "field = driver.find_element(By.CLASS_NAME, butom_)\n",
    "field.clear()\n",
    "field.send_keys(date_target)\n",
    "time.sleep(3)"
   ]
  },
  {
   "cell_type": "code",
   "execution_count": 39,
   "id": "02995ea2",
   "metadata": {},
   "outputs": [],
   "source": [
    "# Нажимаю ок\n",
    "\n",
    "n_d = 3 # number_decision\n",
    "\n",
    "butom_ = 'custom-date-picker-dialog-button md-button md-ink-ripple'.replace(' ', '.')\n",
    "\n",
    "field = driver.find_elements(By.CLASS_NAME, butom_)\n",
    "field[-1].click()\n",
    "\n",
    "time.sleep(3)"
   ]
  },
  {
   "cell_type": "code",
   "execution_count": 40,
   "id": "9e131d07",
   "metadata": {},
   "outputs": [],
   "source": [
    "# Скачать данные\n",
    "\n",
    "n_d = 1 # number_decision\n",
    "\n",
    "butom_ = 'widget-actions-item export'.replace(' ', '.')\n",
    "\n",
    "field = driver.find_elements(By.CLASS_NAME, butom_)[0].click()\n",
    "time.sleep(3)"
   ]
  },
  {
   "cell_type": "code",
   "execution_count": 41,
   "id": "e416361b",
   "metadata": {},
   "outputs": [],
   "source": [
    "driver.close()"
   ]
  },
  {
   "cell_type": "code",
   "execution_count": 42,
   "id": "ec4e4b8f",
   "metadata": {},
   "outputs": [],
   "source": [
    "# Находим последний загруженнй файл\n",
    "dowlend_path = 'C:/Users/Kirill/Downloads'\n",
    "list_paths = []\n",
    "\n",
    "for f_name in os.listdir(dowlend_path):\n",
    "    dowlend_file_p = dowlend_path + '//' + f_name\n",
    "    list_paths.append(dowlend_file_p)\n",
    "\n",
    "latest_file = max(list_paths, key=os.path.getctime)\n",
    "# Получить название последнего файла\n",
    "# https://stackoverflow.com/questions/39327032/how-to-get-the-latest-file-in-a-folder\n",
    "\n",
    "# Получить дату изменения файла\n",
    "# https://stackoverflow.com/questions/237079/how-do-i-get-file-creation-and-modification-date-times"
   ]
  },
  {
   "cell_type": "code",
   "execution_count": 43,
   "id": "ce261b8d",
   "metadata": {},
   "outputs": [],
   "source": [
    "# Убираю файл из загрузок\n",
    "df_google_trand = pd.read_csv(latest_file)\n",
    "df_google_trand.to_excel('google_trand.xlsx')\n",
    "\n",
    "os.remove(latest_file)"
   ]
  },
  {
   "cell_type": "code",
   "execution_count": 56,
   "id": "c339ffaf",
   "metadata": {},
   "outputs": [
    {
     "data": {
      "text/plain": [
       "'D:\\\\Analyst_profession\\\\PROGECT\\\\BTC Find Anamaly\\\\work git\\\\search_anomaly_Bitcoin\\\\google_trand.xlsx'"
      ]
     },
     "execution_count": 56,
     "metadata": {},
     "output_type": "execute_result"
    }
   ],
   "source": [
    "# Сохраняю файл в текущую папку.\n",
    "save_name = cwd + \"\\\\\" + 'google_trand.xlsx'\n",
    "df_google_trand[1:].to_excel(save_name, index=False)"
   ]
  }
 ],
 "metadata": {
  "kernelspec": {
   "display_name": "Python 3",
   "language": "python",
   "name": "python3"
  },
  "language_info": {
   "codemirror_mode": {
    "name": "ipython",
    "version": 3
   },
   "file_extension": ".py",
   "mimetype": "text/x-python",
   "name": "python",
   "nbconvert_exporter": "python",
   "pygments_lexer": "ipython3",
   "version": "3.9.5"
  },
  "toc": {
   "base_numbering": 1,
   "nav_menu": {},
   "number_sections": true,
   "sideBar": true,
   "skip_h1_title": false,
   "title_cell": "Table of Contents",
   "title_sidebar": "Contents",
   "toc_cell": false,
   "toc_position": {},
   "toc_section_display": true,
   "toc_window_display": false
  },
  "vscode": {
   "interpreter": {
    "hash": "31ee9e1dce702a1f091200fb7fc1a39cccbf269992c4f8c0ee1e527f4152dcd5"
   }
  }
 },
 "nbformat": 4,
 "nbformat_minor": 5
}
