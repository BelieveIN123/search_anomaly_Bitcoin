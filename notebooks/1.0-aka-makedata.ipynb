{
 "cells": [
  {
   "cell_type": "code",
   "id": "e2da2d1f",
   "metadata": {
    "scrolled": true,
    "ExecuteTime": {
     "end_time": "2024-06-30T07:35:49.034380Z",
     "start_time": "2024-06-30T07:35:16.563363Z"
    }
   },
   "source": [
    "from binance.client import Client\n",
    "import keys_log\n",
    "import pandas as pd\n",
    "import time\n",
    "import numpy as np\n",
    "import matplotlib.pyplot as plt\n",
    "from datetime import datetime, timedelta\n",
    "from tqdm import tqdm\n",
    "# import mplfinance as mpf\n",
    "# %pip install python-binance\n",
    "\n",
    "\n"
   ],
   "outputs": [],
   "execution_count": 1
  },
  {
   "metadata": {},
   "cell_type": "code",
   "outputs": [],
   "execution_count": null,
   "source": "",
   "id": "6113d17bdbf30cd8"
  },
  {
   "cell_type": "code",
   "id": "6b677e96",
   "metadata": {
    "ExecuteTime": {
     "end_time": "2024-06-30T07:46:46.062132Z",
     "start_time": "2024-06-30T07:46:45.556660Z"
    }
   },
   "source": [
    "pd.set_option('display.max_columns', None)\n",
    "client = Client(keys_log.api_key, keys_log.api_secret)\n",
    "count_day = 1300\n",
    "pair_names = \"ETHUSDT\"\n",
    "interval = 'd'\n",
    "\n",
    "def set_work_path():\n",
    "    # Получаем текущий рабочий каталог\n",
    "    current_directory = os.getcwd()\n",
    "\n",
    "    # Ищем позицию, где находится \"su-data-platform\" в пути\n",
    "    index = current_directory.rfind(\"search_anomaly_Bitcoin\")\n",
    "\n",
    "    # Если \"su-data-platform\" найден, переходим к его родительскому каталогу\n",
    "    if index != -1:\n",
    "        project_directory = current_directory[:index + len(\"search_anomaly_Bitcoin\")]\n",
    "\n",
    "        # Переходим в родительский каталог \"su-data-platform\"\n",
    "        os.chdir(project_directory)\n",
    "\n",
    "    current_directory = os.getcwd()\n",
    "    print('Рабочая дериктория:', {current_directory})\n",
    "\n",
    "\n",
    "\n",
    "def get_start_end_date():\n",
    "    now = datetime.now()\n",
    "    year_ago = now - timedelta(days=count_day)\n",
    "\n",
    "\n",
    "    date_start = year_ago.strftime('%d.%m.%Y')\n",
    "    date_end = now.strftime('%d.%m.%Y')\n",
    "    \n",
    "    return date_start, date_end"
   ],
   "outputs": [],
   "execution_count": 16
  },
  {
   "cell_type": "code",
   "id": "82295dc4",
   "metadata": {
    "ExecuteTime": {
     "end_time": "2024-06-30T07:36:37.831719Z",
     "start_time": "2024-06-30T07:36:33.575448Z"
    }
   },
   "source": [
    "set_work_path()\n",
    "date_start, date_end = get_start_end_date()\n",
    "\n",
    "dict_interval = {'d':Client.KLINE_INTERVAL_1DAY}\n",
    "    \n",
    "    \n",
    "load_list = client.get_historical_klines(pair_names, dict_interval[interval.lower()], date_start, date_end)\n",
    "df_quotes = pd.DataFrame(load_list, columns=['Open time',\n",
    " 'Open',\n",
    " 'High',\n",
    " 'Low',\n",
    " 'Close',\n",
    " 'Volume',\n",
    " 'Close time',\n",
    " 'Quote asset volume',\n",
    " 'Number of trades',\n",
    " 'Taker buy base asset volume',\n",
    " 'Taker buy quote asset volume',\n",
    " 'Ignore'])\n",
    "\n",
    "# info = client.get_exchange_info()"
   ],
   "outputs": [],
   "execution_count": 3
  },
  {
   "cell_type": "code",
   "id": "55044acb",
   "metadata": {
    "ExecuteTime": {
     "end_time": "2024-06-30T07:36:37.840140Z",
     "start_time": "2024-06-30T07:36:37.832725Z"
    }
   },
   "source": [
    "\"\"\"\n",
    "'Quote asset volume' - объем торгов за день котируемого актива. \n",
    "'quote asset' - Котируемый актив - Основной актив, к примеру USDT\n",
    "'base asset' - Базовый актив - что мы оцениваем с помощью котируемого.\n",
    "'Taker buy base asset volume' - покупатели исполняют ордера на покупку базового актива.\n",
    "'Taker buy quote asset volume' - покупатели исполняют ордера на покупку котируемого актива.\n",
    "'Number of trades' - кол-во совершонных сделок.ф\n",
    "\"\"\""
   ],
   "outputs": [
    {
     "data": {
      "text/plain": [
       "\"\\n'Quote asset volume' - объем торгов за день котируемого актива. \\n'quote asset' - Котируемый актив - Основной актив, к примеру USDT\\n'base asset' - Базовый актив - что мы оцениваем с помощью котируемого.\\n'Taker buy base asset volume' - покупатели исполняют ордера на покупку базового актива.\\n'Taker buy quote asset volume' - покупатели исполняют ордера на покупку котируемого актива.\\n'Number of trades' - кол-во совершонных сделок.ф\\n\""
      ]
     },
     "execution_count": 4,
     "metadata": {},
     "output_type": "execute_result"
    }
   ],
   "execution_count": 4
  },
  {
   "cell_type": "code",
   "id": "269f0602",
   "metadata": {
    "ExecuteTime": {
     "end_time": "2024-06-30T07:40:31.231479Z",
     "start_time": "2024-06-30T07:40:31.222326Z"
    }
   },
   "source": [
    "df_quotes.dtypes"
   ],
   "outputs": [
    {
     "data": {
      "text/plain": [
       "Open time                        int64\n",
       "Open                            object\n",
       "High                            object\n",
       "Low                             object\n",
       "Close                           object\n",
       "Volume                          object\n",
       "Close time                       int64\n",
       "Quote asset volume              object\n",
       "Number of trades                 int64\n",
       "Taker buy base asset volume     object\n",
       "Taker buy quote asset volume    object\n",
       "Ignore                          object\n",
       "dtype: object"
      ]
     },
     "execution_count": 15,
     "metadata": {},
     "output_type": "execute_result"
    }
   ],
   "execution_count": 15
  },
  {
   "cell_type": "code",
   "id": "270a60ab",
   "metadata": {
    "ExecuteTime": {
     "end_time": "2024-06-30T07:40:26.891982Z",
     "start_time": "2024-06-30T07:40:26.873954Z"
    }
   },
   "source": [
    "def convert_formats(df):\n",
    "    df = df.copy()    \n",
    "    df['Open time'] = pd.to_datetime(df['Open time'], unit='ms')\n",
    "    df['Close time'] = pd.to_datetime(df['Close time'], unit='ms')\n",
    "    col_new_type = {'Open':float, \n",
    "                    'High':float, \n",
    "                    'Low':float,\n",
    "                    'Close':float,\n",
    "                    'Volume':float,\n",
    "                    'Quote asset volume':float,\n",
    "                    'Number of trades':int,\n",
    "                    'Taker buy base asset volume':float,\n",
    "                    'Taker buy quote asset volume':float\n",
    "                   }\n",
    "    \n",
    "    df = df.astype(col_new_type)\n",
    "    \n",
    "    return df\n",
    "df_main = convert_formats(df_quotes)\n",
    "df_main = df_main.set_index('Open time')"
   ],
   "outputs": [],
   "execution_count": 14
  },
  {
   "cell_type": "code",
   "id": "e039161e",
   "metadata": {
    "ExecuteTime": {
     "end_time": "2024-06-30T07:51:26.948775Z",
     "start_time": "2024-06-30T07:51:26.882974Z"
    }
   },
   "source": [
    "# Путь к файлу, в который будет сохранен DataFrame\n",
    "\n",
    "count_day = 1300\n",
    "pair_names = \"ETHUSDT\"\n",
    "interval = 'd'\n",
    "\n",
    "name = f'{pair_names}_{count_day}d_interval-{interval}'\n",
    "file_path = f'data/raw/{name}.pkl'\n",
    "\n",
    "# Сохраняем DataFrame в файл формата pickle\n",
    "df_main.to_pickle(file_path)\n",
    "print(f'DataFrame успешно сохранен в файл {file_path}')\n"
   ],
   "outputs": [
    {
     "name": "stdout",
     "output_type": "stream",
     "text": [
      "DataFrame успешно сохранен в файл data/raw/ETHUSDT_1300d_interval-d.pkl\n"
     ]
    }
   ],
   "execution_count": 23
  },
  {
   "metadata": {
    "ExecuteTime": {
     "end_time": "2024-06-30T07:38:54.601408Z",
     "start_time": "2024-06-30T07:38:54.591666Z"
    }
   },
   "cell_type": "code",
   "source": [
    "import pickle\n",
    "import pandas as pd\n",
    "import os\n"
   ],
   "id": "37071c7a07950fac",
   "outputs": [],
   "execution_count": 10
  },
  {
   "metadata": {
    "ExecuteTime": {
     "end_time": "2024-06-30T07:39:44.579465Z",
     "start_time": "2024-06-30T07:39:44.573170Z"
    }
   },
   "cell_type": "code",
   "source": "",
   "id": "d6f4f621b728bde7",
   "outputs": [
    {
     "name": "stdout",
     "output_type": "stream",
     "text": [
      "Рабочая дериктория: {'D:\\\\Analyst_profession\\\\PROGECT\\\\BTC Find Anamaly\\\\work git\\\\search_anomaly_Bitcoin'}\n"
     ]
    }
   ],
   "execution_count": 11
  }
 ],
 "metadata": {
  "kernelspec": {
   "display_name": "Python 3 (ipykernel)",
   "language": "python",
   "name": "python3"
  },
  "language_info": {
   "codemirror_mode": {
    "name": "ipython",
    "version": 3
   },
   "file_extension": ".py",
   "mimetype": "text/x-python",
   "name": "python",
   "nbconvert_exporter": "python",
   "pygments_lexer": "ipython3",
   "version": "3.11.4"
  },
  "toc": {
   "base_numbering": 1,
   "nav_menu": {},
   "number_sections": true,
   "sideBar": true,
   "skip_h1_title": false,
   "title_cell": "Table of Contents",
   "title_sidebar": "Contents",
   "toc_cell": false,
   "toc_position": {},
   "toc_section_display": true,
   "toc_window_display": false
  }
 },
 "nbformat": 4,
 "nbformat_minor": 5
}
