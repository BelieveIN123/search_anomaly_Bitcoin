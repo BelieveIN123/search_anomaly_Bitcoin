{
 "cells": [
  {
   "cell_type": "code",
   "execution_count": 3,
   "id": "f0eb8159",
   "metadata": {},
   "outputs": [
    {
     "name": "stderr",
     "output_type": "stream",
     "text": [
      "<ipython-input-3-916b2c1e32b5>:17: DeprecationWarning: use options instead of chrome_options\n",
      "  driver = webdriver.Chrome(service=Service(ChromeDriverManager().install()), chrome_options=chrome_options)\n"
     ]
    },
    {
     "name": "stdout",
     "output_type": "stream",
     "text": [
      "Попытка установки даты 1\n",
      "Утановленая дата = 0007-11-29\n",
      "Попытка установки даты 2\n",
      "Утановленая дата = 2017-11-28\n",
      "Успешно\n",
      "Дата установлена верно\n",
      "1879\n"
     ]
    }
   ],
   "source": [
    "from selenium.webdriver.chrome.options import Options\n",
    "from selenium.webdriver.chrome.service import Service\n",
    "from selenium.webdriver.common.by import By\n",
    "from webdriver_manager.chrome import ChromeDriverManager\n",
    "from selenium.webdriver.common.keys import Keys\n",
    "from selenium import webdriver\n",
    "from tqdm import tqdm\n",
    "import time\n",
    "import pandas as pd\n",
    "import datetime\n",
    "from bs4 import BeautifulSoup\n",
    "import os\n",
    "\n",
    "url = 'https://ru.investing.com/crypto/bitcoin/btc-usd-historical-data?cid=1035793'\n",
    "\n",
    "chrome_options = Options()\n",
    "driver = webdriver.Chrome(service=Service(ChromeDriverManager().install()), chrome_options=chrome_options)\n",
    "driver.get(url)\n",
    "time.sleep(4)\n",
    "\n",
    "# Увеличиваю окно браузера\n",
    "driver.set_window_size(1800, 1000)\n",
    "\n",
    "# Прокрутить\n",
    "driver.execute_script(\"window.scrollTo(0, 650);\") ### https://qastack.ru/programming/20986631/how-can-i-scroll-a-web-page-using-selenium-webdriver-in-python\n",
    "\n",
    "# Открываю поле воода даты\n",
    "butom_date = 'DatePickerWrapper_input__MDvWH'\n",
    "driver.find_element(By.CLASS_NAME, butom_date).click()\n",
    "time.sleep(2)\n",
    "\n",
    "# Ввод даты старта.\n",
    "for try_n in range(1, 5):\n",
    "    print(f'Попытка установки даты {try_n}')\n",
    "    butom_close = 'NativeDateInput_root__wbgyP'  #'#__next > div > div > div > div.grid.gap-4.tablet\\:gap-6.grid-cols-4.tablet\\:grid-cols-8.desktop\\:grid-cols-12.grid-container--fixed-desktop.general-layout_main__lRLYJ > main > div > div:nth-child(5) > div > div:nth-child(1) > div > div.flex.justify-between.items-end.mb-4 > div.flex.flex-row-reverse.desktop\\:flex-row.gap-6 > div.historical-data_history-date-picker-wrapper__dDOuq > div.HistoryDatePicker_HistoryDatePicker__sjrlU > div:nth-child(1) > div > div:nth-child(1) > input[type=date]' #'//*[@id=\"__next\"]/div/div/div/div[2]/main/div/div[5]/div/div[1]/div/div[2]/div[2]/div[2]/div[2]/div[1]/div/div[1]/input'\n",
    "    date_target = '01.12.2017'\n",
    "\n",
    "\n",
    "    field = driver.find_element(By.CLASS_NAME, butom_close) #CSS_SELECTOR\n",
    "    field = field.find_element(By.TAG_NAME, 'input')\n",
    "    # field.clear()\n",
    "    field.send_keys(date_target) # date_target + Keys.ENTER\n",
    "    time.sleep(2)\n",
    "    # Дата окончани не нужна. \n",
    "    if field.get_attribute('value')[:4] == date_target[-4:]:\n",
    "        print('Утановленая дата =',  field.get_attribute('value'))\n",
    "        print('Успешно')\n",
    "        break\n",
    "    else:\n",
    "        print('Утановленая дата =',  field.get_attribute('value'))\n",
    "\n",
    "# Применить фильтр.\n",
    "butom_ = 'HistoryDatePicker_arrow-icon__NwxN4'  #'//*[@id=\"__next\"]/div/div/div/div[2]/main/div/div[5]/div/div[1]/div/div[2]/div[2]/div[2]/div[2]/div[2]/button'\n",
    "driver.find_element(By.CLASS_NAME, butom_).click()\n",
    "time.sleep(2)\n",
    "\n",
    "# Проверить установился ли фильтр даты.\n",
    "butom_ ='historical-data_history-date-picker-wrapper__dDOuq'\n",
    "date_text = driver.find_element(By.CLASS_NAME, butom_).text\n",
    "\n",
    "if date_text[:len(date_target)][-4:] == date_target[-4:]:\n",
    "    print('Дата установлена верно')\n",
    "else:\n",
    "    print('Утановленная дата', date_text[:len(date_target)])\n",
    "    1/0\n",
    "\n",
    "\n",
    "# Прокрутить\n",
    "driver.execute_script(\"window.scrollTo(0, 900);\")\n",
    "\n",
    "col_names = ['Дата', 'Цена', 'Откр.', 'Макс.', 'Мин.', 'Объём', 'Изм. %']\n",
    "\n",
    "# Пробую прочитать файл. \n",
    "try:\n",
    "    df_parse = pd.read_excel('parse_df_investing.xlsx')\n",
    "    pd.to_datetime(df_parse['Дата'], format='%d.%m.%Y')\n",
    "    \n",
    "    diff_day = 3\n",
    "    date_old = pd.to_datetime(df_parse['Дата'], format='%d.%m.%Y').max()\n",
    "    date_now_shift = datetime.datetime.today() + datetime.timedelta(days=diff_day)\n",
    "    if date_old > date_now_shift:\n",
    "        print(f'Старый файл отстаёт от сегодя меньше чем на {diff_day} дней. Новые данные не парсятся.')\n",
    "    else:\n",
    "        raise ValueError(f'Дата слишком слишком старая (больше {diff_day}). Придётся парсить данные')\n",
    "        \n",
    "    \n",
    "except:\n",
    "    soup = BeautifulSoup(driver.page_source, 'lxml')\n",
    "    # https://medium.com/analytics-vidhya/scraping-tables-from-a-javascript-webpage-using-selenium-beautifulsoup-and-pandas-cbd305ca75fe\n",
    "    # beautifulsoup4 используемая библиотека\n",
    "\n",
    "    tables = soup.find_all('table')\n",
    "    dfs = pd.read_html(str(tables))\n",
    "    for df_i in dfs:\n",
    "        head_name = list(df_i)\n",
    "        if head_name == ['Дата', 'Цена', 'Откр.', 'Макс.', 'Мин.', 'Объём', 'Изм. %']:\n",
    "            df_parse = df_i.copy()\n",
    "            break"
   ]
  },
  {
   "cell_type": "code",
   "execution_count": 112,
   "id": "3f49a077",
   "metadata": {},
   "outputs": [],
   "source": []
  },
  {
   "cell_type": "code",
   "execution_count": 113,
   "id": "5c15a73d",
   "metadata": {},
   "outputs": [],
   "source": [
    "df_parse['Дата'] = pd.to_datetime(df_parse['Дата'], format='%d.%m.%Y')"
   ]
  },
  {
   "cell_type": "code",
   "execution_count": 114,
   "id": "4ce56cda",
   "metadata": {},
   "outputs": [],
   "source": [
    "def replace_num(str_):\n",
    "    str_ = str(str_)\n",
    "    if 'K' in str_:\n",
    "        return int(str_.replace('K', '').replace(',', '')+'000')\n",
    "    elif 'M' in str_:\n",
    "        return int(str_.replace('M', '').replace(',', '')+'000000')\n",
    "    else:\n",
    "        try:\n",
    "            return int(str_.replace(',', ''))\n",
    "        except:\n",
    "            return 0\n",
    "        \n",
    "df_parse['value_correct'] = df_parse['Объём'].apply(replace_num)"
   ]
  },
  {
   "cell_type": "code",
   "execution_count": 115,
   "id": "8e8573cc",
   "metadata": {},
   "outputs": [],
   "source": [
    "def replace_symb(str_):\n",
    "    str_ = float(str(str_).replace('.', '').replace(',', '.'))\n",
    "    return str_"
   ]
  },
  {
   "cell_type": "code",
   "execution_count": 116,
   "id": "fd56fee9",
   "metadata": {},
   "outputs": [
    {
     "name": "stdout",
     "output_type": "stream",
     "text": [
      "Цена\n",
      "Откр.\n",
      "Макс.\n",
      "Мин.\n",
      "value_correct\n"
     ]
    }
   ],
   "source": [
    "for col in ['Цена', 'Откр.', 'Макс.', 'Мин.', 'value_correct']:\n",
    "    print(col)\n",
    "    df_parse[col] = df_parse[col].apply(replace_symb)\n",
    "\n",
    "\n",
    "driver.close()"
   ]
  },
  {
   "cell_type": "markdown",
   "id": "c8720f81",
   "metadata": {},
   "source": [
    "# Parce google trands"
   ]
  },
  {
   "cell_type": "code",
   "execution_count": 154,
   "id": "517057f9",
   "metadata": {},
   "outputs": [
    {
     "name": "stderr",
     "output_type": "stream",
     "text": [
      "<ipython-input-154-7ef9c33dd142>:4: DeprecationWarning: use options instead of chrome_options\n",
      "  driver = webdriver.Chrome(service=Service(ChromeDriverManager().install()), chrome_options=chrome_options)\n"
     ]
    }
   ],
   "source": [
    "url = '''https://trends.google.ru/trends/?geo=KZ'''\n",
    "\n",
    "chrome_options = Options()\n",
    "driver = webdriver.Chrome(service=Service(ChromeDriverManager().install()), chrome_options=chrome_options)\n",
    "driver.get(url)"
   ]
  },
  {
   "cell_type": "code",
   "execution_count": 155,
   "id": "9df125f4",
   "metadata": {},
   "outputs": [],
   "source": [
    "# # Ввод поискового запроса\n",
    "butom_close = '//*[@id=\"input-254\"]'\n",
    "find_data = 'buy bitcoin' \n",
    "\n",
    "field = driver.find_element(By.XPATH, butom_close)\n",
    "field.clear()\n",
    "field.send_keys(find_data + Keys.ENTER) # date_target + Keys.ENTER\n",
    "time.sleep(2)\n",
    "# Дата окончани не нужна. "
   ]
  },
  {
   "cell_type": "code",
   "execution_count": 156,
   "id": "56f16281",
   "metadata": {},
   "outputs": [],
   "source": [
    "# Открываю список регионов\n",
    "butom_ = '//*[@id=\"compare-pickers-wrapper\"]/div/hierarchy-picker[1]/ng-include/div[1]'\n",
    "find_data = 'buy bitcoin' \n",
    "set_local = 'По всему миру'\n",
    "set_local = 'Казахстан'\n",
    "\n",
    "\n",
    "field = driver.find_element(By.XPATH, butom_).click()\n",
    "time.sleep(1)\n"
   ]
  },
  {
   "cell_type": "code",
   "execution_count": 157,
   "id": "349d9a15",
   "metadata": {},
   "outputs": [],
   "source": [
    "# Ввожу что мне нужны данные по всему миру\n",
    "butom_ = '//*[@id=\"input-8\"]'\n",
    "set_local = 'По всему миру'\n",
    "\n",
    "\n",
    "field = driver.find_element(By.XPATH, butom_)\n",
    "field.clear() #clear\n",
    "field.send_keys(set_local + Keys.ENTER)\n",
    "time.sleep(3)\n"
   ]
  },
  {
   "cell_type": "code",
   "execution_count": 158,
   "id": "3949a373",
   "metadata": {},
   "outputs": [],
   "source": [
    "# Выбираю из выподающего списка\n",
    "butom_ = '//*[@id=\"ul-8\"]/li/md-autocomplete-parent-scope/div'\n",
    "\n",
    "find_data = 'buy bitcoin' \n",
    "set_local = 'По всему миру'\n",
    "\n",
    "\n",
    "field = driver.find_element(By.XPATH, butom_).click()\n",
    "time.sleep(3)\n"
   ]
  },
  {
   "cell_type": "code",
   "execution_count": 175,
   "id": "9f1f28ea",
   "metadata": {},
   "outputs": [],
   "source": [
    "# Открываю список периодов\n",
    "butom_ = 'compare-picker ng-pristine ng-untouched ng-valid ng-not-empty'.replace(' ', '.')\n",
    "\n",
    "field = driver.find_element(By.CLASS_NAME, butom_).click()\n",
    "time.sleep(3)\n",
    "\n",
    "# Поиск по нескольким классам.\n",
    "# https://stackoverflow.com/questions/60534244/how-to-locate-an-element-with-multiple-classnames-using-selenium-and-python"
   ]
  },
  {
   "cell_type": "code",
   "execution_count": 178,
   "id": "53b4b038",
   "metadata": {},
   "outputs": [],
   "source": [
    "# Нажимаю произвольный период.\n",
    "butom_ = 'custom-date-picker-select-option md-ink-ripple'.replace(' ', '.')\n",
    "\n",
    "driver.find_elements(By.CLASS_NAME, butom_)[-1].click()"
   ]
  },
  {
   "cell_type": "code",
   "execution_count": 180,
   "id": "60164606",
   "metadata": {},
   "outputs": [],
   "source": [
    "# Выбираю дату начала.\n",
    "butom_ = 'md-datepicker-input'\n",
    "\n",
    "\n",
    "field = driver.find_element(By.CLASS_NAME, butom_)\n",
    "field.clear()\n",
    "field.send_keys(date_target)"
   ]
  },
  {
   "cell_type": "code",
   "execution_count": 181,
   "id": "02995ea2",
   "metadata": {},
   "outputs": [],
   "source": [
    "# Нажимаю ок\n",
    "\n",
    "n_d = 3 # number_decision\n",
    "\n",
    "butom_ = 'custom-date-picker-dialog-button md-button md-ink-ripple'.replace(' ', '.')\n",
    "\n",
    "field = driver.find_elements(By.CLASS_NAME, butom_)\n",
    "field[-1].click()\n",
    "\n",
    "time.sleep(1)"
   ]
  },
  {
   "cell_type": "code",
   "execution_count": 184,
   "id": "9e131d07",
   "metadata": {},
   "outputs": [],
   "source": [
    "# Скачать данные\n",
    "\n",
    "n_d = 1 # number_decision\n",
    "\n",
    "butom_ = 'widget-actions-item export'.replace(' ', '.')\n",
    "\n",
    "field = driver.find_elements(By.CLASS_NAME, butom_)[0].click()\n",
    "time.sleep(1)"
   ]
  },
  {
   "cell_type": "code",
   "execution_count": 185,
   "id": "e416361b",
   "metadata": {},
   "outputs": [],
   "source": [
    "driver.close()"
   ]
  },
  {
   "cell_type": "code",
   "execution_count": null,
   "id": "ec4e4b8f",
   "metadata": {},
   "outputs": [],
   "source": [
    "# Находим последний загруженнй файл\n",
    "dowlend_path = 'C:/Users/Kirill/Downloads'\n",
    "list_paths = []\n",
    "\n",
    "for f_name in os.listdir(dowlend_path):\n",
    "    dowlend_file_p = dowlend_path + '//' + f_name\n",
    "    list_paths.append(dowlend_file_p)\n",
    "\n",
    "latest_file = max(list_of_files, key=os.path.getctime)\n",
    "# Получить название последнего файла\n",
    "# https://stackoverflow.com/questions/39327032/how-to-get-the-latest-file-in-a-folder\n",
    "\n",
    "# Получить дату изменения файла\n",
    "# https://stackoverflow.com/questions/237079/how-do-i-get-file-creation-and-modification-date-times"
   ]
  },
  {
   "cell_type": "code",
   "execution_count": null,
   "id": "ce261b8d",
   "metadata": {},
   "outputs": [],
   "source": [
    "pd.read_csv(latest_file)"
   ]
  },
  {
   "cell_type": "code",
   "execution_count": null,
   "id": "c339ffaf",
   "metadata": {},
   "outputs": [],
   "source": []
  }
 ],
 "metadata": {
  "kernelspec": {
   "display_name": "Python 3",
   "language": "python",
   "name": "python3"
  },
  "language_info": {
   "codemirror_mode": {
    "name": "ipython",
    "version": 3
   },
   "file_extension": ".py",
   "mimetype": "text/x-python",
   "name": "python",
   "nbconvert_exporter": "python",
   "pygments_lexer": "ipython3",
   "version": "3.9.5"
  },
  "toc": {
   "base_numbering": 1,
   "nav_menu": {},
   "number_sections": true,
   "sideBar": true,
   "skip_h1_title": false,
   "title_cell": "Table of Contents",
   "title_sidebar": "Contents",
   "toc_cell": false,
   "toc_position": {},
   "toc_section_display": true,
   "toc_window_display": false
  },
  "vscode": {
   "interpreter": {
    "hash": "31ee9e1dce702a1f091200fb7fc1a39cccbf269992c4f8c0ee1e527f4152dcd5"
   }
  }
 },
 "nbformat": 4,
 "nbformat_minor": 5
}
